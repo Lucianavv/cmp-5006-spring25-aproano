{
 "cells": [
  {
   "cell_type": "markdown",
   "metadata": {},
   "source": [
    "# Substitution PART 2 EXERCISE 3.1"
   ]
  },
  {
   "cell_type": "markdown",
   "metadata": {},
   "source": [
    "# Analysis in ciphertext"
   ]
  },
  {
   "cell_type": "code",
   "execution_count": 1,
   "metadata": {},
   "outputs": [
    {
     "name": "stdout",
     "output_type": "stream",
     "text": [
      "KCCPKBGUFDPHQTYAVINRRTMVGRKDNBVFDETDGILTXRGUD\n",
      "DKOTFMBPVGEGLTGCKQRACQCWDNAWCRXIZAKFTLEWRPTYC\n",
      "QKYVXCHKFTPONCQQRHJVAJUWETMCMSPKQDYHJVDAHCTRL\n",
      "SVSKCGCZQQDZXGSFRLSWCWSJTBHAFSIASPRJAHKJRJUMV\n",
      "GKMITZHFPDISPZLVLGWTFPLKKEBDPGCEBSHCTJRWXBAFS\n",
      "PEZQNRWXCVYCGAONWDDKACKAWBBIKFTIOVKCGGHJVLNHI\n",
      "FFSQESVYCLACNVRWBBIREPBBVFEXOSCDYGZWPFDTKFQIY\n",
      "CWHJVLNHIQIBTKHJVNPIST\n"
     ]
    }
   ],
   "source": [
    "from collections import Counter\n",
    "cipher_text= \"\"\"KCCPKBGUFDPHQTYAVINRRTMVGRKDNBVFDETDGILTXRGUD\n",
    "DKOTFMBPVGEGLTGCKQRACQCWDNAWCRXIZAKFTLEWRPTYC\n",
    "QKYVXCHKFTPONCQQRHJVAJUWETMCMSPKQDYHJVDAHCTRL\n",
    "SVSKCGCZQQDZXGSFRLSWCWSJTBHAFSIASPRJAHKJRJUMV\n",
    "GKMITZHFPDISPZLVLGWTFPLKKEBDPGCEBSHCTJRWXBAFS\n",
    "PEZQNRWXCVYCGAONWDDKACKAWBBIKFTIOVKCGGHJVLNHI\n",
    "FFSQESVYCLACNVRWBBIREPBBVFEXOSCDYGZWPFDTKFQIY\n",
    "CWHJVLNHIQIBTKHJVNPIST\"\"\"\n",
    "\n",
    "print(cipher_text)"
   ]
  },
  {
   "cell_type": "code",
   "execution_count": 2,
   "metadata": {},
   "outputs": [
    {
     "data": {
      "text/plain": [
       "{'K': 20,\n",
       " 'C': 24,\n",
       " 'P': 15,\n",
       " 'B': 14,\n",
       " 'G': 16,\n",
       " 'U': 4,\n",
       " 'F': 16,\n",
       " 'D': 16,\n",
       " 'H': 14,\n",
       " 'Q': 13,\n",
       " 'T': 19,\n",
       " 'Y': 8,\n",
       " 'A': 14,\n",
       " 'V': 18,\n",
       " 'I': 14,\n",
       " 'N': 10,\n",
       " 'R': 16,\n",
       " 'M': 6,\n",
       " 'E': 10,\n",
       " 'L': 11,\n",
       " 'X': 7,\n",
       " '\\n': 7,\n",
       " 'O': 5,\n",
       " 'W': 14,\n",
       " 'Z': 7,\n",
       " 'J': 11,\n",
       " 'S': 15}"
      ]
     },
     "execution_count": 2,
     "metadata": {},
     "output_type": "execute_result"
    }
   ],
   "source": [
    "# convert in a dictionary and couter\n",
    "cipher_text_dict = dict(Counter(cipher_text))\n",
    "cipher_text_dict"
   ]
  },
  {
   "cell_type": "markdown",
   "metadata": {},
   "source": [
    "Thus demostrate the most common letter in this cipher text is \n",
    "C=37\n",
    "G=24\n",
    "\n",
    "We also known that the most common letters in english are:\n",
    "(ETAOINS)\n",
    "\n",
    "I assume that C== E"
   ]
  },
  {
   "cell_type": "code",
   "execution_count": 3,
   "metadata": {},
   "outputs": [
    {
     "data": {
      "text/plain": [
       "{'\\n': 7,\n",
       " 'A': 14,\n",
       " 'B': 14,\n",
       " 'C': 24,\n",
       " 'D': 16,\n",
       " 'E': 10,\n",
       " 'F': 16,\n",
       " 'G': 16,\n",
       " 'H': 14,\n",
       " 'I': 14,\n",
       " 'J': 11,\n",
       " 'K': 20,\n",
       " 'L': 11,\n",
       " 'M': 6,\n",
       " 'N': 10,\n",
       " 'O': 5,\n",
       " 'P': 15,\n",
       " 'Q': 13,\n",
       " 'R': 16,\n",
       " 'S': 15,\n",
       " 'T': 19,\n",
       " 'U': 4,\n",
       " 'V': 18,\n",
       " 'W': 14,\n",
       " 'X': 7,\n",
       " 'Y': 8,\n",
       " 'Z': 7}"
      ]
     },
     "execution_count": 3,
     "metadata": {},
     "output_type": "execute_result"
    }
   ],
   "source": [
    "cipher_text_dict= dict(sorted(Counter(cipher_text).items()))\n",
    "cipher_text_dict"
   ]
  },
  {
   "cell_type": "code",
   "execution_count": 4,
   "metadata": {},
   "outputs": [
    {
     "name": "stdout",
     "output_type": "stream",
     "text": [
      "Frecuencia de letras antes de 'c': {'B': 1, 'V': 2, 'D': 1, 'R': 1, 'E': 1, 'T': 1, 'C': 3, 'X': 1, '\\n': 1, 'L': 1, 'P': 1, 'G': 1, 'Y': 1}\n",
      "Frecuencia de letras después de 'c': {'U': 2, 'R': 1, 'I': 1, 'E': 1, 'L': 1, 'C': 3, 'S': 1, 'K': 1, 'W': 1, 'A': 1, 'G': 1, 'H': 1, 'Z': 1}\n"
     ]
    }
   ],
   "source": [
    "# Contadores para letras que aparecen antes y después de 'c'\n",
    "counter_before = Counter()\n",
    "counter_after = Counter()\n",
    "\n",
    "for i, char in enumerate(cipher_text):\n",
    "    if char.lower() == 'g':  # Compara en minúsculas para mayor robustez\n",
    "        if i > 0:\n",
    "            counter_before[cipher_text[i - 1]] += 1\n",
    "        if i < len(cipher_text) - 1:\n",
    "            counter_after[cipher_text[i + 1]] += 1\n",
    "\n",
    "print(\"Frecuencia de letras antes de 'c':\", dict(counter_before))\n",
    "print(\"Frecuencia de letras después de 'c':\", dict(counter_after))"
   ]
  },
  {
   "cell_type": "code",
   "execution_count": 5,
   "metadata": {},
   "outputs": [
    {
     "name": "stdout",
     "output_type": "stream",
     "text": [
      "Trigramas más frecuentes:\n",
      " CG (7 times), ZC (7 times), NC (5 times), YS (5 times), CK (5 times), GO (5 times), AC (5 times), CN (5 times), SF (4 times), GY (4 times), GK (4 times), FZ (4 times), MG (3 times), GL (3 times), US (3 times), CY (3 times), IC (3 times), SI (3 times), KU (3 times), KS (3 times), XE (3 times), CJ (3 times), SH (3 times), XC (3 times), OI (3 times), KG (3 times), CC (3 times), CI (3 times), ZE (3 times), WY (2 times),"
     ]
    }
   ],
   "source": [
    "from collections import Counter\n",
    "\n",
    "\n",
    "cipher_text = \"\"\"EMGLOSUDCGDNCUSWYSFHNSFCYKDPUMLWGYICOXYSIPJCK\n",
    "QPKUGKMGOLICGINCGACKSNISACYKZSCKXECJCKSHYSXCG\n",
    "OIDPKZCNKSHICGIWYGKKGKGOLDSILKGOIUSIGLEDSPWZU\n",
    "GFZCCNDGYYSFUSZCNXEOJNCGYEOWEUPXEZGACGNFGLKNS\n",
    "ACIGOIYCKXCJUCIUZCFZCCNDGYYSFEUEKUZCSOCFZCCNC\n",
    "IACZEJNCSHFZEJZEGMXCYHCJUMGKUCY\"\"\"\n",
    "\n",
    "\n",
    "cipher_text = cipher_text.replace(\"\\n\", \"\").replace(\" \", \"\")\n",
    "\n",
    "# Contador de trigramas\n",
    "trigram_counter = Counter()\n",
    "\n",
    "# Recorrer el texto y contar trigramas\n",
    "for i in range(len(cipher_text) - 2):  # -2 para evitar out of bounds\n",
    "    trigram = cipher_text[i:i+2]  # Extraer tres letras consecutivas\n",
    "    trigram_counter[trigram] += 1\n",
    "\n",
    "\n",
    "sorted_trigrams = trigram_counter.most_common(30)  # Top 10 trigramas más frecuentes\n",
    "\n",
    "# Imprimir trigramas más comunes\n",
    "print(\"Trigramas más frecuentes:\")\n",
    "for trigram, freq in sorted_trigrams:\n",
    "    print(f\" {trigram} ({freq} times),\",end='')\n"
   ]
  },
  {
   "cell_type": "code",
   "execution_count": 6,
   "metadata": {},
   "outputs": [
    {
     "name": "stdout",
     "output_type": "stream",
     "text": [
      "EMGLOSUDEGDNEUSWYSFHNSFEYKDPUMLWGYIEOXYSIPJEKQPKUGKMGOLIEGINEGAEKSNISAEYKZSEKXEEJEKSHYSXEGOIDPKZENKSHIEGIWYGKKGKGOLDSILKGOIUSIGLEDSPWZUGFZEENDGYYSFUSZENXEOJNEGYEOWEUPXEZGAEGNFGLKNSAEIGOIYEKXEJUEIUZEFZEENDGYYSFEUEKUZESOEFZEENEIAEZEJNESHFZEJZEGMXEYHEJUMGKUEY\n"
     ]
    }
   ],
   "source": [
    "plaintext= cipher_text.replace('C','E')\n",
    "print(plaintext)"
   ]
  },
  {
   "cell_type": "code",
   "execution_count": 7,
   "metadata": {},
   "outputs": [
    {
     "name": "stdout",
     "output_type": "stream",
     "text": [
      "EMALOSUDEADNEUSWYSFHNSFEYKDPUMLWAYIEOXYSIPJEKQPKUAKMAOLIEAINEAAEKSNISAEYKZSEKXEEJEKSHYSXEAOIDPKZENKSHIEAIWYAKKAKAOLDSILKAOIUSIALEDSPWZUAFZEENDAYYSFUSZENXEOJNEAYEOWEUPXEZAAEANFALKNSAEIAOIYEKXEJUEIUZEFZEENDAYYSFEUEKUZESOEFZEENEIAEZEJNESHFZEJZEAMXEYHEJUMAKUEY\n"
     ]
    }
   ],
   "source": [
    "substitutions = {\"C\": \"E\", \"G\": \"A\", }  \n",
    "\n",
    "# Replace letters\n",
    "plaintext = \"\".join(substitutions.get(c, c) for c in cipher_text)\n",
    "print(plaintext)\n"
   ]
  },
  {
   "cell_type": "code",
   "execution_count": 8,
   "metadata": {},
   "outputs": [
    {
     "name": "stdout",
     "output_type": "stream",
     "text": [
      "$MAL+=UDEADNEU=WY=FHN=FEYSDPUMLWAYRE+XY=RPJESQPSUASMA+LREARNEA1ES=NR=1EYSZ=ESX$EJES=HY=XEA+RDPSZENS=HREARWYASSASA+LD=RLSA+RU=RAL$D=PWZUAFZEENDAYY=FU=ZENX$+JNEAY$+W$UPX$ZA1EANFALSN=1ERA+RYESXEJUERUZEFZEENDAYY=F$U$SUZE=+EFZEENER1EZ$JNE=HFZ$JZ$AMXEYHEJUMASUEY\n"
     ]
    }
   ],
   "source": [
    "substitutions = {\"C\": \"E\", \"G\": \"A\", \"S\": \"O\", \"K\":\"S\", \"I\":\"R\", \"E\":'$', 'A':'1', 'O':'+','S':'=','R':'4'}  \n",
    "\n",
    "# Replace letters\n",
    "plaintext = \"\".join(substitutions.get(c, c) for c in cipher_text)\n",
    "print(plaintext)"
   ]
  },
  {
   "cell_type": "code",
   "execution_count": 9,
   "metadata": {},
   "outputs": [
    {
     "name": "stdout",
     "output_type": "stream",
     "text": [
      "$MALOSTDEADNETSWYSF3NSFEYKDPTMLWAYIEOXYSIPJEKQPKTAKMAOLIEAINEA1EKSNIS1EYKHSEKX$EJEKS3YSXEAOIDPKHENKS3IEAIWYAKKAKAOLDSILKAOITSIAL$DSPWHTAFHEENDAYYSFTSHENX$OJNEAY$OW$TPX$HA1EANFALKNS1EIAOIYEKXEJTEITHEFHEENDAYYSF$T$KTHESOEFHEENEI1EH$JNES3FH$JH$AMXEY3EJTMAKTEY\n"
     ]
    }
   ],
   "source": [
    "substitutions = {\"C\": \"E\", \"G\": \"A\",  \"U\":\"T\", \"E\":'$', 'A':'1','T':'2','Z':'H','H':'3' }  \n",
    "\n",
    "# Replace letters\n",
    "plaintext = \"\".join(substitutions.get(c, c) for c in cipher_text)\n",
    "print(plaintext)"
   ]
  },
  {
   "cell_type": "code",
   "execution_count": 10,
   "metadata": {},
   "outputs": [
    {
     "name": "stdout",
     "output_type": "stream",
     "text": [
      "IMALNOTDEADNETOWYOF3NOFEY7DPTMLWAYIENXYOIPJE7QP7TA7MANLIEAINEA1E7ONIO1EY7HOE7XIEJE7O3YOXEANIDP7HEN7O3IEAIWYA77A7ANLDOIL7ANITOIALIDOPWHTAFHEENDAYYOFTOHENXINJNEAYINWITPXIHA1EANFAL7NO1EIANIYE7XEJTEITHEFHEENDAYYOFITI7THEONEFHEENEI1EHIJNEO3FHIJHIAMXEY3EJTMA7TEY\n"
     ]
    }
   ],
   "source": [
    "substitutions = {\"C\": \"E\", \"G\": \"A\",  \"U\":\"T\", \"E\":'I', 'A':'1','T':'2','Z':'H','H':'3' ,\"K\":\"S\",'K':'7','S':'O','O':'N'}  \n",
    "\n",
    "plaintext = \"\".join(substitutions.get(c, c) for c in cipher_text)\n",
    "print(plaintext)"
   ]
  },
  {
   "cell_type": "code",
   "execution_count": 11,
   "metadata": {},
   "outputs": [
    {
     "name": "stdout",
     "output_type": "stream",
     "text": [
      "Texto parcialmente descifrado:\n",
      "\n",
      "iMaLnotDeaDletoWYowHloweYKDPtMLWaYsenXYosPceK\n",
      "QPKtaKManLseasleaAeKolsoAeYKhoeKXieceKoHYoXea\n",
      "nsDPKhelKoHseasWYaKKaKanLDosLKanstosaLiDoPWht\n",
      "awheelDaYYowtohelXincleaYinWitPXihaAealwaLKlo\n",
      "AesansYeKXectesthewheelDaYYowitiKtheonewheele\n",
      "sAehicleoHwhichiaMXeYHectMaKteY\n",
      "\n"
     ]
    }
   ],
   "source": [
    "def replace_letters(text, mapping):\n",
    "    \"\"\"\n",
    "    Reemplaza las letras en el texto según un diccionario de mapeo.\n",
    "    \n",
    "    Parameters:\n",
    "        text (str): Texto cifrado original.\n",
    "        mapping (dict): Diccionario con mapeo {'C': 'e', 'Z': 't', ...}\n",
    "    \n",
    "    Returns:\n",
    "        str: Texto con las sustituciones aplicadas.\n",
    "    \"\"\"\n",
    "    return ''.join(mapping.get(char, char) for char in text)\n",
    "\n",
    "# Texto cifrado (Ejemplo)\n",
    "cipher_text = \"\"\"\n",
    "EMGLOSUDCGDNCUSWYSFHNSFCYKDPUMLWGYICOXYSIPJCK\n",
    "QPKUGKMGOLICGINCGACKSNISACYKZSCKXECJCKSHYSXCG\n",
    "OIDPKZCNKSHICGIWYGKKGKGOLDSILKGOIUSIGLEDSPWZU\n",
    "GFZCCNDGYYSFUSZCNXEOJNCGYEOWEUPXEZGACGNFGLKNS\n",
    "ACIGOIYCKXCJUCIUZCFZCCNDGYYSFEUEKUZCSOCFZCCNC\n",
    "IACZEJNCSHFZEJZEGMXCYHCJUMGKUCY\n",
    "\"\"\"\n",
    "\n",
    "# Hipótesis inicial (C = e)\n",
    "substitution_map = {\n",
    "    'C': 'e',\n",
    "    'U': 't',  # Hipótesis basada en bigramas\n",
    "    'Z': 'h',  # Hipótesis basada en frecuencia\n",
    "    'G':'a',\n",
    "    'S':'o',\n",
    "    'O':'n',\n",
    "    'I':'s',\n",
    "    'F':'w',\n",
    "    'N':'l',\n",
    "\n",
    "    'E':'i',\n",
    "    'J':'c'\n",
    "}\n",
    "\n",
    "# Aplicar sustituciones\n",
    "decoded_text = replace_letters(cipher_text, substitution_map)\n",
    "\n",
    "print(\"Texto parcialmente descifrado:\")\n",
    "print(decoded_text)\n"
   ]
  }
 ],
 "metadata": {
  "kernelspec": {
   "display_name": "TextMining",
   "language": "python",
   "name": "textmining"
  },
  "language_info": {
   "codemirror_mode": {
    "name": "ipython",
    "version": 3
   },
   "file_extension": ".py",
   "mimetype": "text/x-python",
   "name": "python",
   "nbconvert_exporter": "python",
   "pygments_lexer": "ipython3",
   "version": "3.12.4"
  }
 },
 "nbformat": 4,
 "nbformat_minor": 2
}
