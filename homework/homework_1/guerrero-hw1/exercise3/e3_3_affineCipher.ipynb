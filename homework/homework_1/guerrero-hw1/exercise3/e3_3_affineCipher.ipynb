{
 "cells": [
  {
   "cell_type": "markdown",
   "metadata": {},
   "source": [
    "# Affine Cipher PART 2 EXERCISE 3.3"
   ]
  },
  {
   "cell_type": "markdown",
   "metadata": {},
   "source": [
    "# 1.  Frequency of occurrence of the 26 ciphertext letters"
   ]
  },
  {
   "cell_type": "code",
   "execution_count": 2,
   "metadata": {},
   "outputs": [
    {
     "name": "stdout",
     "output_type": "stream",
     "text": [
      "KQEREJEBCPPCJCRKIEACUZBKRVPKRBCIBQCARBJCVFCUP\n",
      "KRIOFKPACUZQEPBKRXPEIIEABDKPBCPFCDCCAFIEABDKP\n",
      "BCPFEQPKAZBKRHAIBKAPCCIBURCCDKDCCJCIDFUIXPAFF\n",
      "ERBICZDFKABICBBENEFCUPJCVKABPCYDCCDPKBCOCPERK\n",
      "IVKSCPICBRKIJPKABI\n"
     ]
    }
   ],
   "source": [
    "from collections import Counter\n",
    "cipher_text= \"\"\"KQEREJEBCPPCJCRKIEACUZBKRVPKRBCIBQCARBJCVFCUP\n",
    "KRIOFKPACUZQEPBKRXPEIIEABDKPBCPFCDCCAFIEABDKP\n",
    "BCPFEQPKAZBKRHAIBKAPCCIBURCCDKDCCJCIDFUIXPAFF\n",
    "ERBICZDFKABICBBENEFCUPJCVKABPCYDCCDPKBCOCPERK\n",
    "IVKSCPICBRKIJPKABI\"\"\"\n",
    "\n",
    "print(cipher_text)"
   ]
  },
  {
   "cell_type": "code",
   "execution_count": 3,
   "metadata": {},
   "outputs": [
    {
     "data": {
      "text/plain": [
       "{'K': 20,\n",
       " 'Q': 4,\n",
       " 'E': 13,\n",
       " 'R': 12,\n",
       " 'J': 6,\n",
       " 'B': 21,\n",
       " 'C': 32,\n",
       " 'P': 20,\n",
       " 'I': 16,\n",
       " 'A': 13,\n",
       " 'U': 6,\n",
       " 'Z': 4,\n",
       " 'V': 4,\n",
       " 'F': 10,\n",
       " '\\n': 4,\n",
       " 'O': 2,\n",
       " 'X': 2,\n",
       " 'D': 9,\n",
       " 'H': 1,\n",
       " 'N': 1,\n",
       " 'Y': 1,\n",
       " 'S': 1}"
      ]
     },
     "execution_count": 3,
     "metadata": {},
     "output_type": "execute_result"
    }
   ],
   "source": [
    "\n",
    "cipher_text_dict = dict(Counter(cipher_text))\n",
    "cipher_text_dict"
   ]
  },
  {
   "cell_type": "code",
   "execution_count": 4,
   "metadata": {},
   "outputs": [
    {
     "name": "stdout",
     "output_type": "stream",
     "text": [
      "OCANADATERREDENOSAIEUXTONFRONTESTCEINTDEFLEUR\n",
      "ONSGLORIEUXCARTONBRASSAITPORTERLEPEEILSAITPOR\n",
      "TERLACROIXTONHISTOIREESTUNEEPOPEEDESPLUSBRILL\n",
      "ANTSEXPLOITSETTAVALEURDEFOITREMPEEPROTEGERANO\n",
      "SFOYERSETNOSDROITS\n"
     ]
    }
   ],
   "source": [
    "def modinv(a, m):\n",
    "    \"\"\"Calcula la inversa modular de a modulo m, si existe.\"\"\"\n",
    "    for x in range(1, m):\n",
    "        if (a * x) % m == 1:\n",
    "            return x\n",
    "    return None\n",
    "\n",
    "def affine_decrypt(cipher_text, a, b):\n",
    "    \"\"\"\n",
    "    Descifra el texto cifrado usando el cifrado afín con clave (a, b).\n",
    "    La función de descifrado es:\n",
    "      d(y) = a_inv * (y - b) mod 26\n",
    "    donde a_inv es la inversa modular de a en Z26.\n",
    "    \"\"\"\n",
    "    a_inv = modinv(a, 26)\n",
    "    if a_inv is None:\n",
    "        raise ValueError(\"La clave 'a' no es invertible en Z26.\")\n",
    "    \n",
    "    decrypted = \"\"\n",
    "    for char in cipher_text:\n",
    "        if char.isalpha():\n",
    "            # Convertir letra mayúscula a número: A -> 0, B -> 1, ..., Z -> 25.\n",
    "            y = ord(char) - ord('A')\n",
    "            # Aplicar la función de descifrado.\n",
    "            x = (a_inv * (y - b)) % 26\n",
    "            # Convertir el número de vuelta a letra.\n",
    "            decrypted += chr(x + ord('A'))\n",
    "        else:\n",
    "            # Dejar sin cambios espacios, saltos de línea, etc.\n",
    "            decrypted += char\n",
    "    return decrypted\n",
    "\n",
    "# Texto cifrado\n",
    "cipher_text = \"\"\"KQEREJEBCPPCJCRKIEACUZBKRVPKRBCIBQCARBJCVFCUP\n",
    "KRIOFKPACUZQEPBKRXPEIIEABDKPBCPFCDCCAFIEABDKP\n",
    "BCPFEQPKAZBKRHAIBKAPCCIBURCCDKDCCJCIDFUIXPAFF\n",
    "ERBICZDFKABICBBENEFCUPJCVKABPCYDCCDPKBCOCPERK\n",
    "IVKSCPICBRKIJPKABI\"\"\"\n",
    "\n",
    "# Clave del cifrado afín: a = 19, b = 4 (según el análisis previo)\n",
    "a = 19\n",
    "b = 4\n",
    "\n",
    "# Descifrar y mostrar el resultado\n",
    "plaintext = affine_decrypt(cipher_text, a, b)\n",
    "print(plaintext)\n"
   ]
  },
  {
   "cell_type": "code",
   "execution_count": 5,
   "metadata": {},
   "outputs": [
    {
     "name": "stdout",
     "output_type": "stream",
     "text": [
      "OCANADATERREDENOSAIEUXTONFRONTESTCEINTDEFLEUR\n",
      "ONSGLORIEUXCARTONBRASSAITPORTERLEPEEILSAITPOR\n",
      "TERLACROIXTONHISTOIREESTUNEEPOPEEDESPLUSBRILL\n",
      "ANTSEXPLOITSETTAVALEURDEFOITREMPEEPROTEGERANO\n",
      "SFOYERSETNOSDROITS\n"
     ]
    }
   ],
   "source": [
    "def modinv(a, m):\n",
    "    \"\"\"Calculates the modular inverse of 'a' modulo 'm', if it exists.\"\"\"\n",
    "    for x in range(1, m):\n",
    "        if (a * x) % m == 1:\n",
    "            return x\n",
    "    return None\n",
    "\n",
    "def affine_decrypt(cipher_text, a, b):\n",
    "    \"\"\"\n",
    "    Decrypts the given cipher text using the affine cipher with key (a, b).\n",
    "    The decryption function is:\n",
    "      d(y) = a_inv * (y - b) mod 26\n",
    "    where a_inv is the modular inverse of 'a' in Z26.\n",
    "    \"\"\"\n",
    "    # Get the modular inverse of 'a' (a_inv)\n",
    "    a_inv = modinv(a, 26)\n",
    "    if a_inv is None:\n",
    "        raise ValueError(\"The key 'a' is not invertible in Z26.\")\n",
    "    \n",
    "    decrypted = \"\"\n",
    "    for char in cipher_text:\n",
    "        if char.isalpha():\n",
    "            # Convert uppercase letter to number: A -> 0, B -> 1, ..., Z -> 25.\n",
    "            y = ord(char) - ord('A')\n",
    "            # Apply the decryption function.\n",
    "            x = (a_inv * (y - b)) % 26\n",
    "            # Convert the number back to a letter.\n",
    "            decrypted += chr(x + ord('A'))\n",
    "        else:\n",
    "            # Keep non-alphabetical characters unchanged (spaces, line breaks, etc.)\n",
    "            decrypted += char\n",
    "    return decrypted\n",
    "\n",
    "# Example usage\n",
    "cipher_text = \"\"\"KQEREJEBCPPCJCRKIEACUZBKRVPKRBCIBQCARBJCVFCUP\n",
    "KRIOFKPACUZQEPBKRXPEIIEABDKPBCPFCDCCAFIEABDKP\n",
    "BCPFEQPKAZBKRHAIBKAPCCIBURCCDKDCCJCIDFUIXPAFF\n",
    "ERBICZDFKABICBBENEFCUPJCVKABPCYDCCDPKBCOCPERK\n",
    "IVKSCPICBRKIJPKABI\"\"\"\n",
    "\n",
    "# Affine cipher key: a = 19, b = 4 (based on previous analysis)\n",
    "a = 19\n",
    "b = 4\n",
    "\n",
    "# Decrypt and print the result\n",
    "plaintext = affine_decrypt(cipher_text, a, b)\n",
    "print(plaintext)\n"
   ]
  }
 ],
 "metadata": {
  "kernelspec": {
   "display_name": "TextMining",
   "language": "python",
   "name": "textmining"
  },
  "language_info": {
   "codemirror_mode": {
    "name": "ipython",
    "version": 3
   },
   "file_extension": ".py",
   "mimetype": "text/x-python",
   "name": "python",
   "nbconvert_exporter": "python",
   "pygments_lexer": "ipython3",
   "version": "3.12.4"
  }
 },
 "nbformat": 4,
 "nbformat_minor": 2
}
