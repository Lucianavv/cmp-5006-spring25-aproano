{
 "cells": [
  {
   "cell_type": "markdown",
   "metadata": {},
   "source": [
    "# Part 1. PicoCTF\n",
    "\n",
    "Names: Mateo Fuertes (00321987), Melisa Guerrero (00322205), Joel Cuascota (00327494)\n",
    "\n",
    "Course: CMP 5006 - Information Security (NRC: 1230)\n",
    "\n",
    "Institution: Universidad San Francisco de Quito"
   ]
  },
  {
   "cell_type": "markdown",
   "metadata": {},
   "source": [
    "## The numbers"
   ]
  },
  {
   "cell_type": "markdown",
   "metadata": {},
   "source": [
    "### First Technique: Manual Decryption and Execution (Shift)"
   ]
  },
  {
   "cell_type": "code",
   "execution_count": null,
   "metadata": {},
   "outputs": [
    {
     "name": "stdout",
     "output_type": "stream",
     "text": [
      "PICOCTF{THENUMBERSMASON}\n"
     ]
    }
   ],
   "source": [
    "# List of numbers representing the letters 16, 9, 3, 15, 3, 20, 6{20, 8, 5, 14, 21, 13, 2, 5, 18, 19, 13, 1, 19, 15, 14}\n",
    "numbers = [16, 9, 3, 15, 3, 20, 6]\n",
    "key_numbers = [20, 8, 5, 14, 21, 13, 2, 5, 18, 19, 13, 1, 19, 15, 14]\n",
    "\n",
    "# Function to convert numbers into letters\n",
    "def numbers_to_letters(numbers):\n",
    "    return ''.join([chr(64 + num) for num in numbers])\n",
    "\n",
    "# Decode the lists\n",
    "message = numbers_to_letters(numbers)\n",
    "key_message = numbers_to_letters(key_numbers)\n",
    "\n",
    "# Print the result\n",
    "print(message, end='')\n",
    "print(f\"{{{key_message}}}\")\n"
   ]
  },
  {
   "cell_type": "markdown",
   "metadata": {},
   "source": [
    "### Second Technique: Automating the Entire Process (Caesar Cypher)"
   ]
  },
  {
   "cell_type": "code",
   "execution_count": 78,
   "metadata": {},
   "outputs": [
    {
     "name": "stdout",
     "output_type": "stream",
     "text": [
      "Text: picoCTF{thenumbersmason}\n"
     ]
    }
   ],
   "source": [
    "def string_to_numbers(string):\n",
    "    pico_numbers = []\n",
    "    flag_numbers = []\n",
    "    string_numbers = string.split(\"{\")\n",
    "    pico_numbers = [int(x) for x in string_numbers[0].split(\", \")]\n",
    "    flag_numbers = [int(x) for x in string_numbers[1].replace(\"}\", \"\").split(\", \")]\n",
    "    return pico_numbers, flag_numbers\n",
    "\n",
    "def find_shift(numbers):\n",
    "    original_text = \"picoCTF\"\n",
    "    original_numbers = [ord(c) - ord('A') + 1 if c.isupper() else ord(c) - ord('a') + 1 for c in original_text]\n",
    "    shift = (numbers[0] - original_numbers[0]) % 26\n",
    "    return shift\n",
    "\n",
    "def caesar_decypher(numbers, shift):\n",
    "    text = \"\"\n",
    "    for num in numbers:\n",
    "        shifted_num = (num - shift - 1) % 26 + 1\n",
    "        text += chr(shifted_num + ord('A') - 1)\n",
    "    return text.lower()\n",
    "\n",
    "def main():\n",
    "    numbers_string = \"16, 9, 3, 15, 3, 20, 6{20, 8, 5, 14, 21, 13, 2, 5, 18, 19, 13, 1, 19, 15, 14}\"\n",
    "    pico_numbers, flag_numbers = string_to_numbers(numbers_string)\n",
    "    shift = find_shift(pico_numbers)\n",
    "    text = caesar_decypher(flag_numbers, shift)\n",
    "    print(\"Text: picoCTF{\", text, \"}\", sep=\"\")\n",
    "\n",
    "if __name__ == '__main__':\n",
    "    main()"
   ]
  },
  {
   "cell_type": "markdown",
   "metadata": {},
   "source": [
    "## C3"
   ]
  },
  {
   "cell_type": "markdown",
   "metadata": {},
   "source": [
    "### First Technique: Manual Decryption and Execution"
   ]
  },
  {
   "cell_type": "markdown",
   "metadata": {},
   "source": [
    "Invert the convert.py code for decrypting the message"
   ]
  },
  {
   "cell_type": "code",
   "execution_count": null,
   "metadata": {},
   "outputs": [],
   "source": [
    "import sys\n",
    "chars = \"\"\n",
    "from fileinput import input\n",
    "for line in input():\n",
    "  chars += line\n",
    "\n",
    "lookup1 = \"\\n \\\"#()*+/1:=[]abcdefghijklmnopqrstuvwxyz\"\n",
    "lookup2 = \"ABCDEFGHIJKLMNOPQRSTabcdefghijklmnopqrst\"\n",
    "\n",
    "out = \"\"\n",
    "prev = 0\n",
    "\n",
    "for char in chars:\n",
    "    if char in lookup2:\n",
    "        cur = lookup2.index(char)\n",
    "        original_index = (cur + prev) % 40\n",
    "        out += lookup1[original_index]\n",
    "        prev = original_index\n",
    "    else:\n",
    "        out += char \n",
    "\n",
    "sys.stdout.write(out)"
   ]
  },
  {
   "cell_type": "markdown",
   "metadata": {},
   "source": [
    "Run the code obtained (with a few Python3-compatible modifications) with the file itself as an input:\n",
    "\n",
    "cat file.py | python3 file2.py"
   ]
  },
  {
   "cell_type": "code",
   "execution_count": null,
   "metadata": {},
   "outputs": [],
   "source": [
    "#asciiorder\n",
    "#fortychars\n",
    "#selfinput\n",
    "#pythonthree\n",
    "\n",
    "chars = \"\"\n",
    "from fileinput import input\n",
    "for line in input():\n",
    "    chars += line\n",
    "b = 1 // 1\n",
    "\n",
    "for i in range(len(chars)):\n",
    "    if i == b * b * b:\n",
    "        print(chars[i])\n",
    "        b += 1 // 1 \n"
   ]
  },
  {
   "cell_type": "markdown",
   "metadata": {},
   "source": [
    "Result: adlibs"
   ]
  },
  {
   "cell_type": "markdown",
   "metadata": {},
   "source": [
    "### Second Technique: Server Automation via Telnet"
   ]
  },
  {
   "cell_type": "code",
   "execution_count": 79,
   "metadata": {},
   "outputs": [
    {
     "name": "stdout",
     "output_type": "stream",
     "text": [
      "Encrypted Text: #asciiorder\n",
      "#fortychars\n",
      "#selfinput\n",
      "#pythontwo\n",
      "\n",
      "chars = \"\"\n",
      "from fileinput import input\n",
      "for line in input():\n",
      "    chars += line\n",
      "b = 1 / 1\n",
      "\n",
      "for i in range(len(chars)):\n",
      "    if i == b * b * b:\n",
      "        print chars[i] #prints\n",
      "        b += 1 / 1\n",
      "\n",
      "Extracted Hidden Message: adlibs\n"
     ]
    }
   ],
   "source": [
    "import sys\n",
    "from itertools import cycle\n",
    "\n",
    "def affine_decrypt(text):\n",
    "    lookup1 = \"\\n \\\"#()*+/1:=[]abcdefghijklmnopqrstuvwxyz\"\n",
    "    lookup2 = \"ABCDEFGHIJKLMNOPQRSTabcdefghijklmnopqrst\"\n",
    "    \n",
    "    out = \"\"\n",
    "    prev = 0\n",
    "    \n",
    "    for char in text:\n",
    "        if char in lookup2:\n",
    "            cur = lookup2.index(char)\n",
    "            original_index = (cur + prev) % 40\n",
    "            out += lookup1[original_index]\n",
    "            prev = original_index\n",
    "        else:\n",
    "            out += char \n",
    "    \n",
    "    return out\n",
    "\n",
    "def extract_hidden_message(ciphertext):\n",
    "    result = []\n",
    "    indices = [n**3 for n in range(1, int(len(ciphertext) ** (1/3)) + 2)]\n",
    "    \n",
    "    for idx in indices:\n",
    "        if idx < len(ciphertext):\n",
    "            result.append(ciphertext[idx])\n",
    "    \n",
    "    return ''.join(result)\n",
    "\n",
    "def main():\n",
    "    ciphertext = \"DLSeGAGDgBNJDQJDCFSFnRBIDjgHoDFCFtHDgJpiHtGDmMAQFnRBJKkBAsTMrsPSDDnEFCFtIbEDtDCIbFCFtHTJDKerFldbFObFCFtLBFkBAAAPFnRBJGEkerFlcPgKkImHnIlATJDKbTbFOkdNnsgbnJRMFnRBNAFkBAAAbrcbTKAkOgFpOgFpOpkBAAAAAAAiClFGIPFnRBaKliCgClFGtIBAAAAAAAOgGEkImHnIl\"  # Replace with actual encrypted text\n",
    "    \n",
    "    # Step 1: Encrypt the input text\n",
    "    encrypted_text = affine_decrypt(ciphertext)\n",
    "    print(\"Encrypted Text:\", encrypted_text)\n",
    "    \n",
    "    # Step 2: Extract hidden message from encrypted text\n",
    "    hidden_message = extract_hidden_message(encrypted_text)\n",
    "    print(\"Extracted Hidden Message:\", hidden_message)\n",
    "\n",
    "if __name__ == \"__main__\":\n",
    "    main()"
   ]
  },
  {
   "cell_type": "markdown",
   "metadata": {},
   "source": [
    "## rsa_oracle"
   ]
  },
  {
   "cell_type": "markdown",
   "metadata": {},
   "source": [
    "In this problem, two different techniques are provided to show how the same task can be solved using distinct approaches. The first method leverages pwntools—a specialized CTF library that simplifies remote interactions with high-level functions and abstractions. The second method uses telnetlib from Python's standard library, requiring more manual handling of the communication but offering a viable alternative without external dependencies. This demonstrates the versatility in problem-solving and satisfies the requirement to present two distinct techniques for solving the same problem."
   ]
  },
  {
   "cell_type": "code",
   "execution_count": null,
   "metadata": {},
   "outputs": [],
   "source": [
    "%pip install pwn"
   ]
  },
  {
   "cell_type": "markdown",
   "metadata": {},
   "source": [
    "### First Technique: Server Interaction via Pwn Library"
   ]
  },
  {
   "cell_type": "code",
   "execution_count": 75,
   "metadata": {},
   "outputs": [
    {
     "name": "stdout",
     "output_type": "stream",
     "text": [
      "Recovered Password: 881d9\n"
     ]
    }
   ],
   "source": [
    "from pwn import remote\n",
    "\n",
    "def rsa_oracle_attack():\n",
    "    # Set up connection\n",
    "    host, port = \"titan.picoctf.net\", 54232\n",
    "    p = remote(host, port)\n",
    "    p.recvuntil(b\"decrypt.\")\n",
    "    \n",
    "    # Read the encrypted password from the file\n",
    "    with open(\"/Users/melisaguerrero/Downloads/password.enc\") as file:\n",
    "        c = int(file.read())\n",
    "    \n",
    "    # Request encryption of 2\n",
    "    p.sendline(b\"E\")\n",
    "    p.recvuntil(b\"keysize): \")\n",
    "    p.sendline(b\"\\x02\")\n",
    "    p.recvuntil(b\"mod n) \")\n",
    "    \n",
    "    # Read the encryption of 2\n",
    "    c_a = int(p.recvline())\n",
    "    \n",
    "    # Request decryption of (2 * encrypted password)\n",
    "    p.sendline(b\"D\")\n",
    "    p.recvuntil(b\"decrypt: \")\n",
    "    p.sendline(str(c_a * c).encode())\n",
    "    p.recvuntil(b\"mod n): \")\n",
    "    \n",
    "    # Extract the decrypted password and divide by 2 to get the original\n",
    "    password = int(p.recvline(), 16) // 2\n",
    "    password = password.to_bytes(len(str(password))-7, \"big\").decode(\"utf-8\")\n",
    "    \n",
    "    print(\"Recovered Password:\", password)\n",
    "    \n",
    "    p.close()\n",
    "\n",
    "def main():\n",
    "    rsa_oracle_attack()\n",
    "\n",
    "if __name__ == '__main__':\n",
    "    main()"
   ]
  },
  {
   "cell_type": "markdown",
   "metadata": {},
   "source": [
    "### Second Technique: Server Automation via Telnet"
   ]
  },
  {
   "cell_type": "code",
   "execution_count": 83,
   "metadata": {},
   "outputs": [
    {
     "name": "stdout",
     "output_type": "stream",
     "text": [
      "Initial Banner:\n",
      " *****************************************\n",
      "****************THE ORACLE***************\n",
      "*****************************************\n",
      "what should we do for you? \n",
      "E --> encrypt D --> decrypt.\n",
      "Password: 881d9\n"
     ]
    }
   ],
   "source": [
    "import telnetlib\n",
    "\n",
    "HOST = \"titan.picoctf.net\"\n",
    "PORT = 54232\n",
    "\n",
    "# Connect to the server using telnetlib.\n",
    "tn = telnetlib.Telnet(HOST, PORT)\n",
    "\n",
    "# Wait until we receive the banner that includes \"decrypt.\"\n",
    "banner = tn.read_until(b\"decrypt.\")\n",
    "print(\"Initial Banner:\\n\", banner.decode(errors=\"ignore\"))\n",
    "\n",
    "# Read the encrypted content from the file.\n",
    "with open(\"/Users/melisaguerrero/Downloads/password.enc\") as file:\n",
    "    c = int(file.read())\n",
    "\n",
    "# Send the \"E\" command and wait for the prompt.\n",
    "tn.write(b\"E\\n\")\n",
    "tn.read_until(b\"keysize): \")\n",
    "# Send the keysize (in this case, the byte value 2).\n",
    "tn.write(b\"\\x02\\n\")\n",
    "tn.read_until(b\"mod n) \")\n",
    "\n",
    "# Receive the line with c_a and convert it to an integer.\n",
    "c_a_line = tn.read_until(b\"\\n\").strip()\n",
    "c_a = int(c_a_line)\n",
    "\n",
    "# Send the \"D\" command for decryption.\n",
    "tn.write(b\"D\\n\")\n",
    "tn.read_until(b\"decrypt: \")\n",
    "# Send the product of c_a and c for decryption.\n",
    "tn.write((str(c_a * c) + \"\\n\").encode())\n",
    "\n",
    "# Wait until the final prompt (\"mod n): \") is received.\n",
    "tn.read_until(b\"mod n): \")\n",
    "\n",
    "# Read the final response line.\n",
    "result_line = tn.read_until(b\"\\n\").strip()\n",
    "\n",
    "# Process the response: divide the integer (parsed from hex) by 2,\n",
    "# then convert it to bytes using the original formula.\n",
    "password_int = int(result_line, 16) // 2\n",
    "password = password_int.to_bytes(len(str(password_int)) - 7, \"big\").decode(\"utf-8\")\n",
    "\n",
    "print(\"Password:\", password)\n",
    "tn.close()\n"
   ]
  },
  {
   "cell_type": "markdown",
   "metadata": {},
   "source": [
    "Run this command in the terminal:\n",
    "\n",
    "openssl enc -aes-256-cbc -d -in secret.enc"
   ]
  },
  {
   "cell_type": "markdown",
   "metadata": {},
   "source": [
    "## interencdec"
   ]
  },
  {
   "cell_type": "markdown",
   "metadata": {},
   "source": [
    "### First Technique: Caesar Cipher Brute-Force"
   ]
  },
  {
   "cell_type": "code",
   "execution_count": 26,
   "metadata": {},
   "outputs": [
    {
     "name": "stdout",
     "output_type": "stream",
     "text": [
      "First decoding: b'd3BqdkpBTXtqaGx6aHlfazNqeTl3YTNrX20wMjEyNzU4fQ=='\n",
      "\n"
     ]
    }
   ],
   "source": [
    "import base64\n",
    "\n",
    "# Base64 encoded text\n",
    "encoded_text = \"YidkM0JxZGtwQlRYdHFhR3g2YUhsZmF6TnFlVGwzWVROclgyMHdNakV5TnpVNGZRPT0nCg==\"\n",
    "\n",
    "# First Base64 decoding: decode the encoded text and convert it to a UTF-8 string,\n",
    "# ignoring any decoding errors.\n",
    "decoded_text_1 = base64.b64decode(encoded_text).decode(\"utf-8\", errors=\"ignore\")\n",
    "\n",
    "print(\"First decoding:\", decoded_text_1)\n",
    "\n",
    "\n"
   ]
  },
  {
   "cell_type": "code",
   "execution_count": 28,
   "metadata": {},
   "outputs": [
    {
     "name": "stdout",
     "output_type": "stream",
     "text": [
      "Second decoding: wpjvJAM{jhlzhy_k3jy9wa3k_m0212758}\n"
     ]
    }
   ],
   "source": [
    "# The first decoding produced this Base64 string:\n",
    "decoded_text_1 = 'd3BqdkpBTXtqaGx6aHlfazNqeTl3YTNrX20wMjEyNzU4fQ=='\n",
    "\n",
    "# Second Base64 decoding: decode the string from the first decoding step,\n",
    "# then convert it to a UTF-8 string, ignoring any decoding errors.\n",
    "decoded_text_2 = base64.b64decode(decoded_text_1).decode(\"utf-8\", errors=\"ignore\")\n",
    "print(\"Second decoding:\", decoded_text_2)\n",
    "\n"
   ]
  },
  {
   "cell_type": "code",
   "execution_count": 36,
   "metadata": {},
   "outputs": [
    {
     "data": {
      "text/plain": [
       "{0: 'wpjvJAM{jhlzhy_k3jy9wa3k_m0212758}',\n",
       " 1: 'voiuIZL{igkygx_j3ix9vz3j_l0212758}',\n",
       " 2: 'unhtHYK{hfjxfw_i3hw9uy3i_k0212758}',\n",
       " 3: 'tmgsGXJ{geiwev_h3gv9tx3h_j0212758}',\n",
       " 4: 'slfrFWI{fdhvdu_g3fu9sw3g_i0212758}',\n",
       " 5: 'rkeqEVH{ecguct_f3et9rv3f_h0212758}',\n",
       " 6: 'qjdpDUG{dbftbs_e3ds9qu3e_g0212758}',\n",
       " 7: 'picoCTF{caesar_d3cr9pt3d_f0212758}',\n",
       " 8: 'ohbnBSE{bzdrzq_c3bq9os3c_e0212758}',\n",
       " 9: 'ngamARD{aycqyp_b3ap9nr3b_d0212758}',\n",
       " 10: 'mfzlZQC{zxbpxo_a3zo9mq3a_c0212758}',\n",
       " 11: 'leykYPB{ywaown_z3yn9lp3z_b0212758}',\n",
       " 12: 'kdxjXOA{xvznvm_y3xm9ko3y_a0212758}',\n",
       " 13: 'jcwiWNZ{wuymul_x3wl9jn3x_z0212758}',\n",
       " 14: 'ibvhVMY{vtxltk_w3vk9im3w_y0212758}',\n",
       " 15: 'haugULX{uswksj_v3uj9hl3v_x0212758}',\n",
       " 16: 'gztfTKW{trvjri_u3ti9gk3u_w0212758}',\n",
       " 17: 'fyseSJV{squiqh_t3sh9fj3t_v0212758}',\n",
       " 18: 'exrdRIU{rpthpg_s3rg9ei3s_u0212758}',\n",
       " 19: 'dwqcQHT{qosgof_r3qf9dh3r_t0212758}',\n",
       " 20: 'cvpbPGS{pnrfne_q3pe9cg3q_s0212758}',\n",
       " 21: 'buoaOFR{omqemd_p3od9bf3p_r0212758}',\n",
       " 22: 'atnzNEQ{nlpdlc_o3nc9ae3o_q0212758}',\n",
       " 23: 'zsmyMDP{mkockb_n3mb9zd3n_p0212758}',\n",
       " 24: 'yrlxLCO{ljnbja_m3la9yc3m_o0212758}',\n",
       " 25: 'xqkwKBN{kimaiz_l3kz9xb3l_n0212758}'}"
      ]
     },
     "execution_count": 36,
     "metadata": {},
     "output_type": "execute_result"
    }
   ],
   "source": [
    "# Encrypted text\n",
    "cipher_text = \"wpjvJAM{jhlzhy_k3jy9wa3k_m0212758}\"\n",
    "\n",
    "def caesar_cipher(text, shift):\n",
    "    result = \"\"\n",
    "    for char in text:\n",
    "        if char.isalpha():\n",
    "            # Set base for upper or lower case\n",
    "            base = ord('A') if char.isupper() else ord('a')\n",
    "            result += chr((ord(char) - base - shift) % 26 + base)\n",
    "        else:\n",
    "            # Keep digits and symbols unchanged\n",
    "            result += char\n",
    "    return result\n",
    "\n",
    "def brute_force_caesar(text):\n",
    "    possible_texts = {}\n",
    "    for shift in range(26):  # Try all shifts\n",
    "        possible_texts[shift] = caesar_cipher(text, shift)\n",
    "    return possible_texts\n",
    "\n",
    "# Run brute force decryption\n",
    "brute_force_results = brute_force_caesar(cipher_text)\n",
    "\n",
    "brute_force_results\n"
   ]
  },
  {
   "cell_type": "markdown",
   "metadata": {},
   "source": [
    "When shift = 7, we obtain the plaintext: 'picoCTF{caesar_d3cr9pt3d_f0212758}'."
   ]
  },
  {
   "cell_type": "markdown",
   "metadata": {},
   "source": [
    "### Second Technique: Affine Cipher Brute-Force Decryption"
   ]
  },
  {
   "cell_type": "code",
   "execution_count": null,
   "metadata": {},
   "outputs": [
    {
     "data": {
      "text/html": [
       "<div>\n",
       "<style scoped>\n",
       "    .dataframe tbody tr th:only-of-type {\n",
       "        vertical-align: middle;\n",
       "    }\n",
       "\n",
       "    .dataframe tbody tr th {\n",
       "        vertical-align: top;\n",
       "    }\n",
       "\n",
       "    .dataframe thead th {\n",
       "        text-align: right;\n",
       "    }\n",
       "</style>\n",
       "<table border=\"1\" class=\"dataframe\">\n",
       "  <thead>\n",
       "    <tr style=\"text-align: right;\">\n",
       "      <th></th>\n",
       "      <th>(a, b)</th>\n",
       "      <th>Decrypted Text</th>\n",
       "    </tr>\n",
       "  </thead>\n",
       "  <tbody>\n",
       "    <tr>\n",
       "      <th>0</th>\n",
       "      <td>(1, 0)</td>\n",
       "      <td>wpjvJAM{jhlzhy_k3jy9wa3k_m0212758}</td>\n",
       "    </tr>\n",
       "    <tr>\n",
       "      <th>1</th>\n",
       "      <td>(1, 1)</td>\n",
       "      <td>voiuIZL{igkygx_j3ix9vz3j_l0212758}</td>\n",
       "    </tr>\n",
       "    <tr>\n",
       "      <th>2</th>\n",
       "      <td>(1, 2)</td>\n",
       "      <td>unhtHYK{hfjxfw_i3hw9uy3i_k0212758}</td>\n",
       "    </tr>\n",
       "    <tr>\n",
       "      <th>3</th>\n",
       "      <td>(1, 3)</td>\n",
       "      <td>tmgsGXJ{geiwev_h3gv9tx3h_j0212758}</td>\n",
       "    </tr>\n",
       "    <tr>\n",
       "      <th>4</th>\n",
       "      <td>(1, 4)</td>\n",
       "      <td>slfrFWI{fdhvdu_g3fu9sw3g_i0212758}</td>\n",
       "    </tr>\n",
       "    <tr>\n",
       "      <th>5</th>\n",
       "      <td>(1, 5)</td>\n",
       "      <td>rkeqEVH{ecguct_f3et9rv3f_h0212758}</td>\n",
       "    </tr>\n",
       "    <tr>\n",
       "      <th>6</th>\n",
       "      <td>(1, 6)</td>\n",
       "      <td>qjdpDUG{dbftbs_e3ds9qu3e_g0212758}</td>\n",
       "    </tr>\n",
       "    <tr>\n",
       "      <th>7</th>\n",
       "      <td>(1, 7)</td>\n",
       "      <td>picoCTF{caesar_d3cr9pt3d_f0212758}</td>\n",
       "    </tr>\n",
       "    <tr>\n",
       "      <th>8</th>\n",
       "      <td>(1, 8)</td>\n",
       "      <td>ohbnBSE{bzdrzq_c3bq9os3c_e0212758}</td>\n",
       "    </tr>\n",
       "    <tr>\n",
       "      <th>9</th>\n",
       "      <td>(1, 9)</td>\n",
       "      <td>ngamARD{aycqyp_b3ap9nr3b_d0212758}</td>\n",
       "    </tr>\n",
       "  </tbody>\n",
       "</table>\n",
       "</div>"
      ],
      "text/plain": [
       "   (a, b)                      Decrypted Text\n",
       "0  (1, 0)  wpjvJAM{jhlzhy_k3jy9wa3k_m0212758}\n",
       "1  (1, 1)  voiuIZL{igkygx_j3ix9vz3j_l0212758}\n",
       "2  (1, 2)  unhtHYK{hfjxfw_i3hw9uy3i_k0212758}\n",
       "3  (1, 3)  tmgsGXJ{geiwev_h3gv9tx3h_j0212758}\n",
       "4  (1, 4)  slfrFWI{fdhvdu_g3fu9sw3g_i0212758}\n",
       "5  (1, 5)  rkeqEVH{ecguct_f3et9rv3f_h0212758}\n",
       "6  (1, 6)  qjdpDUG{dbftbs_e3ds9qu3e_g0212758}\n",
       "7  (1, 7)  picoCTF{caesar_d3cr9pt3d_f0212758}\n",
       "8  (1, 8)  ohbnBSE{bzdrzq_c3bq9os3c_e0212758}\n",
       "9  (1, 9)  ngamARD{aycqyp_b3ap9nr3b_d0212758}"
      ]
     },
     "execution_count": 71,
     "metadata": {},
     "output_type": "execute_result"
    }
   ],
   "source": [
    "# Function to calculate the modular inverse of 'a' in Z26\n",
    "def modinv(a, m):\n",
    "    \"\"\"Calculates the modular inverse of 'a' modulo 'm', if it exists.\"\"\"\n",
    "    for x in range(1, m):\n",
    "        if (a * x) % m == 1:\n",
    "            return x\n",
    "    return None\n",
    "\n",
    "# Function to decrypt using the affine cipher\n",
    "def affine_decrypt(cipher_text, a, b):\n",
    "    \"\"\"\n",
    "    Decrypts the given cipher text using the affine cipher with key (a, b).\n",
    "    The decryption function is:\n",
    "      d(y) = a_inv * (y - b) mod 26\n",
    "    where a_inv is the modular inverse of 'a' in Z26.\n",
    "    \"\"\"\n",
    "    a_inv = modinv(a, 26)\n",
    "    if a_inv is None:\n",
    "        return None  # If 'a' is not invertible, skip this attempt\n",
    "    \n",
    "    decrypted = \"\"\n",
    "    for char in cipher_text:\n",
    "        if char.isalpha():\n",
    "            is_upper = char.isupper()\n",
    "            base = ord('A') if is_upper else ord('a')\n",
    "            y = ord(char) - base\n",
    "            x = (a_inv * (y - b)) % 26\n",
    "            decrypted += chr(x + base)\n",
    "        else:\n",
    "            decrypted += char \n",
    "    return decrypted\n",
    "\n",
    "# Provided cipher text\n",
    "cipher_text = \"wpjvJAM{jhlzhy_k3jy9wa3k_m0212758}\"\n",
    "\n",
    "# Test all possible combinations of (a, b) where 'a' is invertible in Z26\n",
    "valid_a_values = [a for a in range(1, 26) if modinv(a, 26) is not None]\n",
    "possible_decryptions = {}\n",
    "\n",
    "# Try all valid combinations of (a, b) and decrypt the text\n",
    "for a in valid_a_values:\n",
    "    for b in range(26):\n",
    "        decrypted_text = affine_decrypt(cipher_text, a, b)\n",
    "        if decrypted_text:\n",
    "            possible_decryptions[(a, b)] = decrypted_text\n",
    "\n",
    "import pandas as pd\n",
    "\n",
    "# Create a DataFrame with the results\n",
    "df_results = pd.DataFrame(possible_decryptions.items(), columns=[\"(a, b)\", \"Decrypted Text\"])\n",
    "\n",
    "# Display the first 10 rows of the results\n",
    "df_results.head(10)\n"
   ]
  },
  {
   "cell_type": "markdown",
   "metadata": {},
   "source": [
    "## HideToSee\n",
    "\n"
   ]
  },
  {
   "cell_type": "markdown",
   "metadata": {},
   "source": [
    "### First Technique: Steghide and Atbash"
   ]
  },
  {
   "cell_type": "markdown",
   "metadata": {},
   "source": [
    "Steghide is a tool used to embed and extract this data, securing it with a password. To recover the hidden data without knowing the password."
   ]
  },
  {
   "cell_type": "markdown",
   "metadata": {},
   "source": [
    "#### 1. Create the Dockerfile\n",
    "\n",
    "Open your terminal and run the following command:\n",
    "\n",
    "```bash\n",
    "nano Dockerfile\n",
    "\n",
    "\n"
   ]
  },
  {
   "cell_type": "markdown",
   "metadata": {},
   "source": [
    "#### Dockerfile Content\n",
    "\n",
    "```dockerfile\n",
    "FROM debian:latest\n",
    "\n",
    "# Update package lists and install steghide\n",
    "RUN apt update && apt install -y steghide\n",
    "\n",
    "# Set the working directory to /data\n",
    "WORKDIR /data\n",
    "\n",
    "# Set steghide as the default command\n",
    "ENTRYPOINT [\"steghide\"]\n",
    "```text\n"
   ]
  },
  {
   "cell_type": "markdown",
   "metadata": {},
   "source": [
    "#### 3. Save the file\n",
    "\n",
    "#### 4. Build the Docker image\n",
    "```bash\n",
    "docker build -t steghide-container .\n",
    "\n",
    "\n"
   ]
  },
  {
   "cell_type": "markdown",
   "metadata": {},
   "source": [
    "#### 5. Run Steghide in Docker\n",
    "```bash\n",
    "(base) melisaguerrero@MacBook-Pro-de-Melisa-2 ~ % docker run --rm -v /Users/melisaguerrero/Downloads:/data -it steghide-container extract -sf /data/atbash.jpg -xf /data/encrypted.txt\n",
    "Enter passphrase: \n",
    "the file \"/data/encrypted.txt\" does already exist. overwrite ? (y/n) y\n",
    "wrote extracted data to \"/data/encrypted.txt\".\n",
    "(base) melisaguerrero@MacBook-Pro-de-Melisa-2 ~ % cat /Users/melisaguerrero/Downloads/encrypted.txt\n",
    "krxlXGU{zgyzhs_xizxp_8z0uvwwx}"
   ]
  },
  {
   "cell_type": "markdown",
   "metadata": {},
   "source": [
    "![Resultado de DCode](dcode.png)"
   ]
  },
  {
   "cell_type": "code",
   "execution_count": 61,
   "metadata": {},
   "outputs": [
    {
     "data": {
      "text/plain": [
       "'picoCTF{atbash_crack_8a0feddc}'"
      ]
     },
     "execution_count": 61,
     "metadata": {},
     "output_type": "execute_result"
    }
   ],
   "source": [
    "def atbash_cipher(text):\n",
    "    alphabet_lower = 'abcdefghijklmnopqrstuvwxyz'\n",
    "    alphabet_upper = 'ABCDEFGHIJKLMNOPQRSTUVWXYZ'\n",
    "\n",
    "    # create distionary\n",
    "    atbash_lower = {alphabet_lower[i]: alphabet_lower[-i-1] for i in range(len(alphabet_lower))}\n",
    "    atbash_upper = {alphabet_upper[i]: alphabet_upper[-i-1] for i in range(len(alphabet_upper))}\n",
    "\n",
    "    # substitution\n",
    "    result = []\n",
    "    for char in text:\n",
    "        if char.islower():\n",
    "            result.append(atbash_lower.get(char, char))\n",
    "        elif char.isupper():\n",
    "            result.append(atbash_upper.get(char, char))\n",
    "        else:\n",
    "            result.append(char)\n",
    "    \n",
    "    return ''.join(result)\n",
    "\n",
    "\n",
    "text = \"krxlXGU{zgyzhs_xizxp_8z0uvwwx}\"\n",
    "result = atbash_cipher(text)\n",
    "result\n"
   ]
  },
  {
   "cell_type": "markdown",
   "metadata": {},
   "source": [
    "### Second Technique: Stegseek and Affine"
   ]
  },
  {
   "cell_type": "markdown",
   "metadata": {},
   "source": [
    "Stegseek can be used to perform a brute-force attack, utilizing a password dictionary to try and find the correct key and access the hidden information."
   ]
  },
  {
   "cell_type": "markdown",
   "metadata": {},
   "source": [
    "docker run --rm -it -v \"$(pwd):/steg\" rickdejager/stegseek /steg/atbash.jpg /steg/rockyou.txt"
   ]
  },
  {
   "cell_type": "markdown",
   "metadata": {},
   "source": [
    "cat atbash.jpg.out "
   ]
  },
  {
   "cell_type": "markdown",
   "metadata": {},
   "source": [
    "output: krxlXGU{zgyzhs_xizxp_8z0uvwwx}"
   ]
  },
  {
   "cell_type": "markdown",
   "metadata": {},
   "source": [
    "#### Affine cipher"
   ]
  },
  {
   "cell_type": "code",
   "execution_count": 70,
   "metadata": {},
   "outputs": [
    {
     "data": {
      "text/html": [
       "<div>\n",
       "<style scoped>\n",
       "    .dataframe tbody tr th:only-of-type {\n",
       "        vertical-align: middle;\n",
       "    }\n",
       "\n",
       "    .dataframe tbody tr th {\n",
       "        vertical-align: top;\n",
       "    }\n",
       "\n",
       "    .dataframe thead th {\n",
       "        text-align: right;\n",
       "    }\n",
       "</style>\n",
       "<table border=\"1\" class=\"dataframe\">\n",
       "  <thead>\n",
       "    <tr style=\"text-align: right;\">\n",
       "      <th></th>\n",
       "      <th>(a, b)</th>\n",
       "      <th>Decrypted Text</th>\n",
       "    </tr>\n",
       "  </thead>\n",
       "  <tbody>\n",
       "    <tr>\n",
       "      <th>0</th>\n",
       "      <td>(1, 0)</td>\n",
       "      <td>krxlXGU{zgyzhs_xizxp_8z0uvwwx}</td>\n",
       "    </tr>\n",
       "    <tr>\n",
       "      <th>1</th>\n",
       "      <td>(1, 1)</td>\n",
       "      <td>jqwkWFT{yfxygr_whywo_8y0tuvvw}</td>\n",
       "    </tr>\n",
       "    <tr>\n",
       "      <th>2</th>\n",
       "      <td>(1, 2)</td>\n",
       "      <td>ipvjVES{xewxfq_vgxvn_8x0stuuv}</td>\n",
       "    </tr>\n",
       "    <tr>\n",
       "      <th>3</th>\n",
       "      <td>(1, 3)</td>\n",
       "      <td>houiUDR{wdvwep_ufwum_8w0rsttu}</td>\n",
       "    </tr>\n",
       "    <tr>\n",
       "      <th>4</th>\n",
       "      <td>(1, 4)</td>\n",
       "      <td>gnthTCQ{vcuvdo_tevtl_8v0qrsst}</td>\n",
       "    </tr>\n",
       "    <tr>\n",
       "      <th>...</th>\n",
       "      <td>...</td>\n",
       "      <td>...</td>\n",
       "    </tr>\n",
       "    <tr>\n",
       "      <th>95</th>\n",
       "      <td>(7, 17)</td>\n",
       "      <td>zamoMRT{qrbqgp_mvqmw_8q0tixxm}</td>\n",
       "    </tr>\n",
       "    <tr>\n",
       "      <th>96</th>\n",
       "      <td>(7, 18)</td>\n",
       "      <td>klxzXCE{bcmbra_xgbxh_8b0etiix}</td>\n",
       "    </tr>\n",
       "    <tr>\n",
       "      <th>97</th>\n",
       "      <td>(7, 19)</td>\n",
       "      <td>vwikINP{mnxmcl_irmis_8m0petti}</td>\n",
       "    </tr>\n",
       "    <tr>\n",
       "      <th>98</th>\n",
       "      <td>(7, 20)</td>\n",
       "      <td>ghtvTYA{xyixnw_tcxtd_8x0apeet}</td>\n",
       "    </tr>\n",
       "    <tr>\n",
       "      <th>99</th>\n",
       "      <td>(7, 21)</td>\n",
       "      <td>rsegEJL{ijtiyh_enieo_8i0lappe}</td>\n",
       "    </tr>\n",
       "  </tbody>\n",
       "</table>\n",
       "<p>100 rows × 2 columns</p>\n",
       "</div>"
      ],
      "text/plain": [
       "     (a, b)                  Decrypted Text\n",
       "0    (1, 0)  krxlXGU{zgyzhs_xizxp_8z0uvwwx}\n",
       "1    (1, 1)  jqwkWFT{yfxygr_whywo_8y0tuvvw}\n",
       "2    (1, 2)  ipvjVES{xewxfq_vgxvn_8x0stuuv}\n",
       "3    (1, 3)  houiUDR{wdvwep_ufwum_8w0rsttu}\n",
       "4    (1, 4)  gnthTCQ{vcuvdo_tevtl_8v0qrsst}\n",
       "..      ...                             ...\n",
       "95  (7, 17)  zamoMRT{qrbqgp_mvqmw_8q0tixxm}\n",
       "96  (7, 18)  klxzXCE{bcmbra_xgbxh_8b0etiix}\n",
       "97  (7, 19)  vwikINP{mnxmcl_irmis_8m0petti}\n",
       "98  (7, 20)  ghtvTYA{xyixnw_tcxtd_8x0apeet}\n",
       "99  (7, 21)  rsegEJL{ijtiyh_enieo_8i0lappe}\n",
       "\n",
       "[100 rows x 2 columns]"
      ]
     },
     "execution_count": 70,
     "metadata": {},
     "output_type": "execute_result"
    }
   ],
   "source": [
    "# Function to calculate the modular inverse of 'a' modulo m in Z26\n",
    "def modinv(a, m):\n",
    "    \"\"\"Calculates the modular inverse of 'a' modulo 'm', if it exists.\"\"\"\n",
    "    for x in range(1, m):\n",
    "        if (a * x) % m == 1:\n",
    "            return x\n",
    "    return None\n",
    "\n",
    "# Function to decrypt using the affine cipher\n",
    "def affine_decrypt(cipher_text, a, b):\n",
    "    \"\"\"\n",
    "    Decrypts the given cipher text using the affine cipher with key (a, b).\n",
    "    The decryption function is:\n",
    "      d(y) = a_inv * (y - b) mod 26\n",
    "    where a_inv is the modular inverse of 'a' in Z26.\n",
    "    \"\"\"\n",
    "    # Calculate the modular inverse of 'a' in Z26\n",
    "    a_inv = modinv(a, 26)\n",
    "    if a_inv is None:\n",
    "        return None  # If 'a' is not invertible, skip this attempt\n",
    "    \n",
    "    decrypted = \"\"\n",
    "    for char in cipher_text:\n",
    "        if char.isalpha():\n",
    "            # Convert uppercase letter to number: A -> 0, B -> 1, ..., Z -> 25.\n",
    "            is_upper = char.isupper()\n",
    "            base = ord('A') if is_upper else ord('a')\n",
    "            y = ord(char) - base\n",
    "            # Apply the decryption function.\n",
    "            x = (a_inv * (y - b)) % 26\n",
    "            # Convert the number back to a letter.\n",
    "            decrypted += chr(x + base)\n",
    "        else:\n",
    "            # Keep non-alphabetical characters unchanged (spaces, line breaks, etc.)\n",
    "            decrypted += char\n",
    "    return decrypted\n",
    "\n",
    "# Provided cipher text\n",
    "cipher_text = \"krxlXGU{zgyzhs_xizxp_8z0uvwwx}\"\n",
    "\n",
    "# Test all possible combinations of (a, b) where a is invertible in Z26\n",
    "valid_a_values = [a for a in range(1, 26) if modinv(a, 26) is not None]\n",
    "possible_decryptions = {}\n",
    "\n",
    "# Try all valid combinations of a and b\n",
    "for a in valid_a_values:\n",
    "    for b in range(26):\n",
    "        decrypted_text = affine_decrypt(cipher_text, a, b)\n",
    "        if decrypted_text:\n",
    "            possible_decryptions[(a, b)] = decrypted_text\n",
    "\n",
    "import pandas as pd\n",
    "\n",
    "# Create a DataFrame with the results\n",
    "df_results = pd.DataFrame(possible_decryptions.items(), columns=[\"(a, b)\", \"Decrypted Text\"])\n",
    "\n",
    "# Display the first 100 rows of the results\n",
    "df_results.head(100)\n"
   ]
  },
  {
   "cell_type": "markdown",
   "metadata": {},
   "source": [
    "Finally, when \\(a = 25\\) and \\(b = 25\\), we get a text.\n"
   ]
  },
  {
   "cell_type": "code",
   "execution_count": 69,
   "metadata": {},
   "outputs": [
    {
     "data": {
      "text/plain": [
       "'picoCTF{atbash_crack_8a0feddc}'"
      ]
     },
     "execution_count": 69,
     "metadata": {},
     "output_type": "execute_result"
    }
   ],
   "source": [
    "df_results.iloc[311, 1]  \n"
   ]
  }
 ],
 "metadata": {
  "kernelspec": {
   "display_name": "TextMining",
   "language": "python",
   "name": "textmining"
  },
  "language_info": {
   "codemirror_mode": {
    "name": "ipython",
    "version": 3
   },
   "file_extension": ".py",
   "mimetype": "text/x-python",
   "name": "python",
   "nbconvert_exporter": "python",
   "pygments_lexer": "ipython3",
   "version": "3.12.4"
  }
 },
 "nbformat": 4,
 "nbformat_minor": 2
}
